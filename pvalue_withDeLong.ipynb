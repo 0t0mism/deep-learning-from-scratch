{
  "nbformat": 4,
  "nbformat_minor": 0,
  "metadata": {
    "colab": {
      "provenance": [],
      "authorship_tag": "ABX9TyNzvspxoFMecowE/OsFM11x",
      "include_colab_link": true
    },
    "kernelspec": {
      "name": "python3",
      "display_name": "Python 3"
    },
    "language_info": {
      "name": "python"
    }
  },
  "cells": [
    {
      "cell_type": "markdown",
      "metadata": {
        "id": "view-in-github",
        "colab_type": "text"
      },
      "source": [
        "<a href=\"https://colab.research.google.com/github/0t0mism/deep-learning-from-scratch/blob/master/pvalue_withDeLong.ipynb\" target=\"_parent\"><img src=\"https://colab.research.google.com/assets/colab-badge.svg\" alt=\"Open In Colab\"/></a>"
      ]
    },
    {
      "cell_type": "code",
      "source": [
        "pip install scikit-learn"
      ],
      "metadata": {
        "colab": {
          "base_uri": "https://localhost:8080/"
        },
        "id": "dEixKmmTH2Zy",
        "outputId": "616208ff-ad65-4458-fb3b-452c9b0483c7"
      },
      "execution_count": null,
      "outputs": [
        {
          "output_type": "stream",
          "name": "stdout",
          "text": [
            "Looking in indexes: https://pypi.org/simple, https://us-python.pkg.dev/colab-wheels/public/simple/\n",
            "Requirement already satisfied: scikit-learn in /usr/local/lib/python3.8/dist-packages (1.0.2)\n",
            "Requirement already satisfied: threadpoolctl>=2.0.0 in /usr/local/lib/python3.8/dist-packages (from scikit-learn) (3.1.0)\n",
            "Requirement already satisfied: joblib>=0.11 in /usr/local/lib/python3.8/dist-packages (from scikit-learn) (1.2.0)\n",
            "Requirement already satisfied: scipy>=1.1.0 in /usr/local/lib/python3.8/dist-packages (from scikit-learn) (1.7.3)\n",
            "Requirement already satisfied: numpy>=1.14.6 in /usr/local/lib/python3.8/dist-packages (from scikit-learn) (1.22.4)\n"
          ]
        }
      ]
    },
    {
      "cell_type": "code",
      "source": [
        "!pip freeze"
      ],
      "metadata": {
        "id": "u3Ev_q8zx9_J"
      },
      "execution_count": null,
      "outputs": []
    },
    {
      "cell_type": "code",
      "source": [
        "import numpy as np\n",
        "from scipy.stats import norm\n",
        "\n",
        "# 検査1のAUCと信頼区間\n",
        "s1 = 786\n",
        "a1 = 0.706\n",
        "lb1 = 0.654\n",
        "ub1 = 0.758\n",
        "\n",
        "# 検査2のAUCと信頼区間\n",
        "s2 = 445\n",
        "a2 = 0.734\n",
        "lb2 = 0.684\n",
        "ub2 = 0.779\n",
        "\n",
        "# DeLongのテストに必要なパラメータを計算\n",
        "se1_sq = (a1 * (1 - a1) + (s1 - 1) * (lb1 + ub1 - 2 * a1 ** 2) / (4 * (s1 - 1))) / s1\n",
        "se2_sq = (a2 * (1 - a2) + (s2 - 1) * (lb2 + ub2 - 2 * a2 ** 2) / (4 * (s2 - 1))) / s2\n",
        "cov = ((a1 - a2) ** 2) / (2 * (s1 + s2 - 2)) + se1_sq / s1 + se2_sq / s2\n",
        "z = (a1 - a2) / np.sqrt(cov)\n",
        "pvalue = 2 * norm.sf(abs(z))\n",
        "\n",
        "print(\"p値:\", pvalue)\n"
      ],
      "metadata": {
        "colab": {
          "base_uri": "https://localhost:8080/"
        },
        "id": "HNcRSpv7IE-W",
        "outputId": "7476eddf-b0f6-4a1e-943e-2b0439b46cc5"
      },
      "execution_count": null,
      "outputs": [
        {
          "output_type": "stream",
          "name": "stdout",
          "text": [
            "p値: 2.960508795049685e-76\n"
          ]
        }
      ]
    },
    {
      "cell_type": "code",
      "source": [
        "import numpy as np\n",
        "from scipy.stats import norm\n",
        "from sklearn.metrics import roc_auc_score"
      ],
      "metadata": {
        "id": "aSFbvtwyDuV7"
      },
      "execution_count": null,
      "outputs": []
    },
    {
      "cell_type": "code",
      "source": [
        "#AUCと信頼区間を定義する\n",
        "s1 = 786\n",
        "a1 = 0.706\n",
        "lb1 = 0.654\n",
        "ub1 = 0.758\n",
        "\n",
        "s2 = 445\n",
        "a2 = 0.734\n",
        "lb2 = 0.684\n",
        "ub2 = 0.779"
      ],
      "metadata": {
        "id": "BxC9Rh7fJOBC"
      },
      "execution_count": null,
      "outputs": []
    },
    {
      "cell_type": "code",
      "source": [
        "# 検査1,2のAUC\n",
        "auc1 = a1\n",
        "auc2 = a2\n",
        "\n",
        "# AUCの差分に対する標準誤差\n",
        "se1 = np.sqrt((a1 * (1 - a1) + (s1 - 1) * (lb1 + ub1 - 2 * a1 * np.ones_like(lb1))) / s1)\n",
        "se2 = np.sqrt((a2 * (1 - a2) + (s2 - 1) * (lb2 + ub2 - 2 * a2 * np.ones_like(lb2))) / s2)\n",
        "se_diff = np.sqrt(se1**2 + se2**2)\n",
        "\n",
        "# Zスコア\n",
        "z_score = (auc1 - auc2) / se_diff\n",
        "\n",
        "# p値\n",
        "p_value = 2 * (1 - norm.cdf(abs(z_score)))\n",
        "print(f\"p値: {p_value:.4f}\")"
      ],
      "metadata": {
        "colab": {
          "base_uri": "https://localhost:8080/"
        },
        "id": "7AobaetMJVoG",
        "outputId": "8a0b48e0-6cc2-4fdc-9c07-4d20a30cabef"
      },
      "execution_count": null,
      "outputs": [
        {
          "output_type": "stream",
          "name": "stdout",
          "text": [
            "p値: nan\n"
          ]
        },
        {
          "output_type": "stream",
          "name": "stderr",
          "text": [
            "<ipython-input-48-ec39862216fd>:7: RuntimeWarning: invalid value encountered in sqrt\n",
            "  se2 = np.sqrt((a2 * (1 - a2) + (s2 - 1) * (lb2 + ub2 - 2 * a2 * np.ones_like(lb2))) / s2)\n"
          ]
        }
      ]
    },
    {
      "cell_type": "code",
      "source": [
        "import numpy as np\n",
        "from scipy.stats import norm\n",
        "from sklearn.metrics import roc_auc_score\n",
        "\n",
        "# 検査1,2のAUC、信頼区間の情報を定義する\n",
        "s1 = 786\n",
        "a1 = 0.706\n",
        "lb1 = 0.654\n",
        "ub1 = 0.758\n",
        "\n",
        "s2 = 445\n",
        "a2 = 0.734\n",
        "lb2 = 0.684\n",
        "ub2 = 0.779\n",
        "\n",
        "# DeLongのテストで必要な情報を計算する\n",
        "# DeLongのテストで必要な情報を計算する\n",
        "auc1 = a1\n",
        "auc2 = a2\n",
        "\n",
        "var1 = a1 * (1 - a1)\n",
        "var2 = a2 * (1 - a2)\n",
        "cov = ((s1 - 1) * var1 + (s2 - 1) * var2) / (s1 + s2 - 2)\n",
        "se_diff = np.sqrt(var1/s1 + var2/s2 + 2*cov/(s1+s2))\n",
        "\n",
        "\n",
        "z_score = (auc1 - auc2) / se_diff\n",
        "p_value = 2 * (1 - norm.cdf(abs(z_score)))\n",
        "\n",
        "# p値を出力する\n",
        "print(f\"p値: {p_value:.4f}\")"
      ],
      "metadata": {
        "colab": {
          "base_uri": "https://localhost:8080/"
        },
        "id": "jQSH6k-bJb4B",
        "outputId": "3f601cba-7293-4179-e76c-124c70c8f372"
      },
      "execution_count": null,
      "outputs": [
        {
          "output_type": "stream",
          "name": "stdout",
          "text": [
            "p値: 0.3836\n"
          ]
        }
      ]
    },
    {
      "cell_type": "code",
      "source": [],
      "metadata": {
        "id": "2cgoy6qVM8ME"
      },
      "execution_count": null,
      "outputs": []
    }
  ]
}